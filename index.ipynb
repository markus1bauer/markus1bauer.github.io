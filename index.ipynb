{
  "cells": [
    {
      "cell_type": "raw",
      "metadata": {},
      "source": [
        "---\n",
        "title: \"Landschaftsökologie Bauer\"\n",
        "---"
      ],
      "id": "2f7f3ec7"
    },
    {
      "cell_type": "markdown",
      "metadata": {},
      "source": [
        "This is a Quarto website.\n",
        "\n",
        "To learn more about Quarto websites visit <https://quarto.org/docs/websites>.\n",
        "\n",
        "\n",
        "```{html}\n",
        "<script type='text/javascript' src='https://d1bxh8uas1mnw7.cloudfront.net/assets/embed.js'></script>\n",
        "\n",
        "<div class='altmetric-embed' data-badge-type='donut' data-doi=\"10.1016/j.baae.2019.11.003\"></div>\n",
        "```"
      ],
      "id": "a0c765a0"
    }
  ],
  "metadata": {
    "kernelspec": {
      "display_name": "Python 3",
      "language": "python",
      "name": "python3"
    }
  },
  "nbformat": 4,
  "nbformat_minor": 5
}